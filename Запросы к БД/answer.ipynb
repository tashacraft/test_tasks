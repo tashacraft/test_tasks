{
 "cells": [
  {
   "cell_type": "markdown",
   "metadata": {},
   "source": [
    "# Ответы"
   ]
  },
  {
   "cell_type": "markdown",
   "metadata": {},
   "source": [
    "Я сгенерировала данные для таблиц с помощью Python (в файле creat_data.ypynb):\n",
    "\n",
    "Таблица Users - возраст от 18 до 80 лет, всего 300 записей\n",
    "\n",
    "Таблица Purchases:\n",
    "- даты от 01.01.2022 до 31.12.2022\n",
    "- id товара (200 разных id)\n",
    "- всего 1000 записей\n",
    "\n",
    "Таблица Items - цены от 10 до 500 руб, всего 200 записей"
   ]
  },
  {
   "cell_type": "markdown",
   "metadata": {},
   "source": [
    "1. Какую сумму в среднем в месяц тратит пользователь в возрастном диапазоне от 18 до 25 лет включительно?\n",
    "\n",
    "`\n",
    "SELECT avg(avg_order) AS avg_order_18_25\n",
    "FROM (\n",
    "    SELECT month,\n",
    "        avg(sum_user) AS avg_order\n",
    "    FROM (\n",
    "      select (date_trunc('month', CAST(date AS date))):: date as month,\n",
    "          u.userid,\n",
    "          sum(price) AS sum_user\n",
    "      from users AS u\n",
    "      JOIN purchases AS pu ON u.userid = pu.userid\n",
    "      JOIN items AS i ON pu.itemid=i.itemid\n",
    "      WHERE \n",
    "              age >= 18\n",
    "          AND \n",
    "              age <= 25\n",
    "      GROUP BY date_trunc('month', CAST(date AS date)), u.userid\n",
    "      ) AS sum_user_month\n",
    "     GROUP BY month\n",
    " ) AS avg_order_user_month\n",
    "`"
   ]
  },
  {
   "cell_type": "markdown",
   "metadata": {},
   "source": [
    "2. Какую сумму в среднем в месяц тратит пользователь в возрастном диапазоне от 26 до 35 лет включительно?\n",
    "\n",
    "`\n",
    "SELECT avg(avg_order) AS avg_order_26_35\n",
    "FROM (\n",
    "    SELECT month,\n",
    "        avg(sum_user) AS avg_order\n",
    "    FROM (\n",
    "      SELECT (date_trunc('month', CAST(date AS date))):: date as month,\n",
    "          u.userid,\n",
    "          sum(price) AS sum_user\n",
    "      FROM users AS u\n",
    "      JOIN purchases AS pu ON u.userid = pu.userid\n",
    "      JOIN items AS i ON pu.itemid=i.itemid\n",
    "      WHERE \n",
    "              age >= 26\n",
    "          AND \n",
    "              age <= 35\n",
    "      GROUP BY date_trunc('month', CAST(date AS date)), u.userid\n",
    "      ) AS sum_user_month\n",
    "     GROUP BY month\n",
    " ) AS avg_order_user_month;\n",
    "`"
   ]
  },
  {
   "cell_type": "markdown",
   "metadata": {},
   "source": [
    "3. В каком месяце года выручка от пользователей в возрастном диапазоне 35+ самая большая?\n",
    "\n",
    "`\n",
    "SELECT \n",
    "\textract(month from CAST(date AS date)) AS month_order,\n",
    "\tsum(price) AS sum_month\n",
    "FROM users AS u\n",
    "JOIN purchases AS pu ON u.userid = pu.userid\n",
    "JOIN items AS i ON pu.itemid=i.itemid\n",
    "WHERE age >= 35 \n",
    "GROUP BY extract(month from CAST(date AS date))\n",
    "ORDER By sum_month DESC;\n",
    "`"
   ]
  },
  {
   "cell_type": "markdown",
   "metadata": {},
   "source": [
    "4. Какой товар дает наибольший вклад в выручку за последний год?\n",
    "\n",
    "`\n",
    "SELECT i.itemid,\n",
    "\tsum(price) AS sum_year\n",
    "FROM items AS i\n",
    "JOIN purchases AS pu ON pu.itemid=i.itemid\n",
    "WHERE CAST(date AS date) BETWEEN '2022-01-01' AND '2022-12-31'\n",
    "GROUP BY i.itemid\n",
    "ORDER BY sum_year DESC;\n",
    "`"
   ]
  },
  {
   "cell_type": "markdown",
   "metadata": {},
   "source": [
    "5. Топ-3 товаров по выручке и их доля в общей выручке за любой год.\n",
    "\n",
    "`\n",
    "SELECT \n",
    "\titemid,\n",
    "\tsum_year,\n",
    "\t(sum_year / sum(sum_year) OVER ()) * 100 AS percent_item\n",
    "FROM (\n",
    "  SELECT i.itemid AS itemid,\n",
    "      SUM(price) AS sum_year\n",
    "  FROM items AS i \n",
    "  JOIN purchases AS pu ON pu.itemid=i.itemid\n",
    "  WHERE CAST(date AS date) BETWEEN '2022-01-01' AND '2022-12-31'\n",
    "  GROUP BY i.itemid\n",
    "  ORDER BY sum_year DESC\n",
    "  ) AS sum_y\n",
    "LIMIT 3;\n",
    "`"
   ]
  },
  {
   "cell_type": "code",
   "execution_count": null,
   "metadata": {},
   "outputs": [],
   "source": []
  }
 ],
 "metadata": {
  "kernelspec": {
   "display_name": "Python 3",
   "language": "python",
   "name": "python3"
  },
  "language_info": {
   "codemirror_mode": {
    "name": "ipython",
    "version": 3
   },
   "file_extension": ".py",
   "mimetype": "text/x-python",
   "name": "python",
   "nbconvert_exporter": "python",
   "pygments_lexer": "ipython3",
   "version": "3.7.3"
  }
 },
 "nbformat": 4,
 "nbformat_minor": 4
}
